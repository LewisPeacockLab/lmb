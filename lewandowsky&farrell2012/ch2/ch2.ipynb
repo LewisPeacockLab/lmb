{
 "cells": [
  {
   "cell_type": "markdown",
   "metadata": {},
   "source": [
    "# Chapter 2\n",
    "\n",
    "This code contains all the necessary stuff for their phonological loop model."
   ]
  },
  {
   "cell_type": "code",
   "execution_count": 6,
   "metadata": {},
   "outputs": [],
   "source": [
    "from __future__ import division\n",
    "import numpy as np\n",
    "import matplotlib.pyplot as plt\n",
    "%matplotlib inline\n",
    "np.set_printoptions(precision=3)"
   ]
  },
  {
   "cell_type": "markdown",
   "metadata": {},
   "source": [
    "First we will define the _known_ variables of our phonological loop model. Note that these are not necessarily typical values--they are only used to get the model running"
   ]
  },
  {
   "cell_type": "markdown",
   "metadata": {},
   "source": [
    "## Setup"
   ]
  },
  {
   "cell_type": "code",
   "execution_count": 3,
   "metadata": {},
   "outputs": [],
   "source": [
    "n_reps = 1000    # how many times to iterate the simulation\n",
    "n_words = 5      # number of words per list\n",
    "init_activ = 1   # initial activation of each memory item\n",
    "min_activ = 0    # minimum activation for an item to be considered still 'in memory'\n",
    "decay_rate = 0.8 # how fast per second a word decays in memory\n",
    "delay_time = 5   # length (seconds) of each delay period"
   ]
  },
  {
   "cell_type": "markdown",
   "metadata": {},
   "source": [
    "We are going to simulate an experiment where \"subjects\" try to retain words of different \"speech _rates_\". Each time they remember a list of words, all the words in the list have the same speech rate. This is something we want to manipulate, so we choose a range of speech rates to test/simulate."
   ]
  },
  {
   "cell_type": "code",
   "execution_count": 8,
   "metadata": {},
   "outputs": [
    {
     "name": "stdout",
     "output_type": "stream",
     "text": [
      "[ 1.5    1.679  1.857  2.036  2.214  2.393  2.571  2.75   2.929  3.107\n",
      "  3.286  3.464  3.643  3.821  4.   ]\n"
     ]
    }
   ],
   "source": [
    "speech_rates = np.linspace(1.5, 4, 15)\n",
    "print speech_rates"
   ]
  },
  {
   "cell_type": "markdown",
   "metadata": {},
   "source": [
    "The speech rates get inverted into a more interpretable \"speech _times_\". Speech rate is how many of the word can be said per second, and speech times is how long it takes to say it."
   ]
  },
  {
   "cell_type": "code",
   "execution_count": 10,
   "metadata": {},
   "outputs": [
    {
     "name": "stdout",
     "output_type": "stream",
     "text": [
      "[ 0.667  0.596  0.538  0.491  0.452  0.418  0.389  0.364  0.341  0.322\n",
      "  0.304  0.289  0.275  0.262  0.25 ]\n"
     ]
    }
   ],
   "source": [
    "speech_times = 1. / speech_rates\n",
    "print speech_times"
   ]
  },
  {
   "cell_type": "markdown",
   "metadata": {},
   "source": [
    "## Simulation"
   ]
  },
  {
   "cell_type": "markdown",
   "metadata": {},
   "source": [
    "We will loop through each speech time, and at each of those speech times we will simulate `n_reps` trials of that condition. The simulation consists of words \"decaying\" over a delay, and a \"person\" rehearsing them by reactivating the \"memory\" to the initial value of encoding (`init_activ`).\n",
    "\n",
    "To simulate rehearsal, the initial activation value is added back to the word. Only one word can be rehearsed at a time, and words are assumed to be rehearsed in the original list order."
   ]
  },
  {
   "cell_type": "code",
   "execution_count": 32,
   "metadata": {},
   "outputs": [],
   "source": [
    "# initialize a vector to hold the simulated results\n",
    "accuracy = np.zeros_like(speech_times)\n",
    "\n",
    "for i, t in enumerate(speech_times):\n",
    "    for r in range(n_reps):\n",
    "        \n",
    "        # start each word in the list with the same activation\n",
    "        activations = np.repeat(init_activ, n_words)\n",
    "        \n",
    "        rehearsal_word = -1 # indx allowing rehearsal to start at beginning of list\n",
    "        secs = 0\n",
    "        \n",
    "        # delay period\n",
    "        while secs < delay_time:\n",
    "            \n",
    "            # get index of all words still above threshold\n",
    "            # ie, find words still in memory\n",
    "            intact = np.where(activations>min_activ)[0]\n",
    "            \n",
    "            # find indx of the next word that is still intact\n",
    "            next_words = np.where(intact>rehearsal_word)[0]\n",
    "            if next_words.size == 0:\n",
    "                # head back to beginning of list\n",
    "                rehearsal_word = 0\n",
    "            else:\n",
    "                # take the next word\n",
    "                rehearsal_word = next_words[0]\n",
    "                \n",
    "            # \"rehearse\" the item by reactivating it\n",
    "            activations[rehearsal_word] = init_activ\n",
    "            \n",
    "            # everything decays, at a rate dependent on the word length\n",
    "            activations = activations - decay_rate*t\n",
    "            \n",
    "            secs += t\n",
    "        \n",
    "        ## end of the delay period\n",
    "        \n",
    "        # how many items are still in memory?\n",
    "        n_correct = sum(activations>min_activ)\n",
    "        \n",
    "        # save accuracy as percentage of whole word list\n",
    "        accuracy[i] += n_correct/n_words"
   ]
  },
  {
   "cell_type": "markdown",
   "metadata": {},
   "source": [
    "## Look at results"
   ]
  },
  {
   "cell_type": "code",
   "execution_count": 29,
   "metadata": {},
   "outputs": [
    {
     "data": {
      "text/plain": [
       "Text(0,0.5,u'Proportion Correct')"
      ]
     },
     "execution_count": 29,
     "metadata": {},
     "output_type": "execute_result"
    },
    {
     "data": {
      "image/png": "[encoded data removed]",
      "text/plain": [
       "<matplotlib.figure.Figure at 0x1107b4210>"
      ]
     },
     "metadata": {},
     "output_type": "display_data"
    }
   ],
   "source": [
    "plt.scatter(speech_rates, accuracy/n_reps)\n",
    "plt.xlim(0,4.5)\n",
    "plt.ylim(0,1.1)\n",
    "plt.xlabel('Speech Rate')\n",
    "plt.ylabel('Proportion Correct')"
   ]
  },
  {
   "cell_type": "markdown",
   "metadata": {},
   "source": [
    "## Adding variation to the decay rate\n",
    "\n",
    "Notice that the above data does not look very realistic. Why would it be so \"step-wise\" like that? In reality, many of the parameters that we treated as fixed actually include some variation (or _noise_) in their values from trial-to-trial. We can simulate this by pulling a _new_ value of the parameter (from a specified distribution) for each simulated trial. That's done here with decay rate. Everything else stays the same."
   ]
  },
  {
   "cell_type": "code",
   "execution_count": 33,
   "metadata": {},
   "outputs": [],
   "source": [
    "decay_sd = 0.2\n",
    "# all other parameters are maintained from above"
   ]
  },
  {
   "cell_type": "code",
   "execution_count": 34,
   "metadata": {},
   "outputs": [],
   "source": [
    "## comments are removed here, but see them above\n",
    "\n",
    "accuracy = np.zeros_like(speech_times)\n",
    "\n",
    "for i, t in enumerate(speech_times):\n",
    "    for r in range(n_reps):\n",
    "        activations = np.repeat(init_activ, n_words)\n",
    "        rehearsal_word = -1\n",
    "        secs = 0\n",
    "        \n",
    "        # delay period\n",
    "        while secs < delay_time:\n",
    "            intact = np.where(activations>min_activ)[0]\n",
    "            next_words = np.where(intact>rehearsal_word)[0]\n",
    "            if next_words.size == 0:\n",
    "                rehearsal_word = 0\n",
    "            else:\n",
    "                rehearsal_word = next_words[0]\n",
    "                \n",
    "            activations[rehearsal_word] = init_activ\n",
    "            \n",
    "            ## only change here\n",
    "            # apply sd to jitter the decay rate\n",
    "            trial_decay_rate = decay_rate + np.random.normal(0,decay_sd)\n",
    "\n",
    "            activations = activations - trial_decay_rate*t\n",
    "            \n",
    "            secs += t\n",
    "        \n",
    "        n_correct = sum(activations>min_activ)\n",
    "        accuracy[i] += n_correct/n_words"
   ]
  },
  {
   "cell_type": "code",
   "execution_count": 35,
   "metadata": {},
   "outputs": [
    {
     "data": {
      "text/plain": [
       "Text(0,0.5,u'Proportion Correct')"
      ]
     },
     "execution_count": 35,
     "metadata": {},
     "output_type": "execute_result"
    },
    {
     "data": {
      "image/png": "[encoded data removed]",
      "text/plain": [
       "<matplotlib.figure.Figure at 0x110754dd0>"
      ]
     },
     "metadata": {},
     "output_type": "display_data"
    }
   ],
   "source": [
    "plt.scatter(speech_rates, accuracy/n_reps)\n",
    "plt.xlim(0,4.5)\n",
    "plt.ylim(0,1.1)\n",
    "plt.xlabel('Speech Rate')\n",
    "plt.ylabel('Proportion Correct')"
   ]
  }
 ],
 "metadata": {
  "kernelspec": {
   "display_name": "Python 2",
   "language": "python",
   "name": "python2"
  },
  "language_info": {
   "codemirror_mode": {
    "name": "ipython",
    "version": 2
   },
   "file_extension": ".py",
   "mimetype": "text/x-python",
   "name": "python",
   "nbconvert_exporter": "python",
   "pygments_lexer": "ipython2",
   "version": "2.7.14"
  }
 },
 "nbformat": 4,
 "nbformat_minor": 2
}
