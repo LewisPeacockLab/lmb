{
 "cells": [
  {
   "cell_type": "markdown",
   "metadata": {
    "inputHidden": false,
    "outputHidden": false
   },
   "source": [
    "# Chapter 7\n",
    "\n",
    "## WITNESS model"
   ]
  },
  {
   "cell_type": "code",
   "execution_count": 1,
   "metadata": {
    "inputHidden": false,
    "outputHidden": false
   },
   "outputs": [],
   "source": [
    "import numpy as np\n",
    "from scipy import optimize\n",
    "np.set_printoptions(precision=2)"
   ]
  },
  {
   "cell_type": "markdown",
   "metadata": {},
   "source": [
    "## WITNESS architecture\n",
    "\n",
    "* recognition decisions are based on direct comparisons between the test items (people in the lineup vs contents of memory)\n",
    "* the only relevant content is the face of the perpretrator"
   ]
  },
  {
   "cell_type": "markdown",
   "metadata": {},
   "source": [
    "### 1. Stimuli\n",
    "\n",
    "All stimuli are represented as random vectors made of $k$ features. \n",
    "\n",
    "$$ \\textrm{stimulus} = (f_1,f_2,...,f_k) $$\n",
    "\n",
    "Each features is drawn from a uniform distribution with mean zero and range (-5,.5).\n",
    "\n",
    "$$ f \\sim \\mathcal{U}(-.5,+.5) $$\n",
    "\n",
    "Note that one stimulus vector will represent the perpetrator, and others will represent the foils in the lineup.\n",
    "\n",
    "For example,"
   ]
  },
  {
   "cell_type": "code",
   "execution_count": 2,
   "metadata": {
    "inputHidden": false,
    "outputHidden": false
   },
   "outputs": [
    {
     "name": "stdout",
     "output_type": "stream",
     "text": [
      "[ 0.23  0.16  0.02  0.35  0.18  0.36  0.36  0.21  0.03 -0.24]\n"
     ]
    }
   ],
   "source": [
    "# make a \"person\"\n",
    "\n",
    "k = 10 # num features per stimulus vector\n",
    "\n",
    "stimulus = np.random.uniform(-.5,.5,size=k)\n",
    "\n",
    "print stimulus"
   ]
  },
  {
   "cell_type": "markdown",
   "metadata": {},
   "source": [
    "### 2. Encoding\n",
    "\n",
    "Encoding into memory is assumed to be imperfect.\n",
    "\n",
    "When a stimulus is encoded into memory, it gets transformed into a new feature vector. In the process, it loses quality. This is implemented in the model by only allowing some fraction $s$ of the features from true stimulus vector to be retained in the new memory vector.\n",
    "\n",
    "For example, memories might be actual faces degraded by half, so then $ s = \\frac{1}{2} $.\n",
    "\n",
    "Here is an example where memories of faces degrade by half, and stimuli are made of 10 features:"
   ]
  },
  {
   "cell_type": "code",
   "execution_count": 8,
   "metadata": {},
   "outputs": [
    {
     "name": "stdout",
     "output_type": "stream",
     "text": [
      "[ 0.43 -0.22  0.29 -0.49  0.2   0.03  0.1  -0.1  -0.16 -0.37]\n",
      "[1 8 9 0 6]\n",
      "[ 0.43 -0.22 -0.43  0.35  0.09  0.5   0.1   0.47 -0.16 -0.37]\n"
     ]
    }
   ],
   "source": [
    "s = .5\n",
    "n_features = 10\n",
    "\n",
    "# perceive a perpetrator\n",
    "perp = np.random.uniform(-.5,.5, size=n_features)\n",
    "print perp\n",
    "\n",
    "## degrade the face to a memory representation\n",
    "\n",
    "# create empty vector to hold vals\n",
    "memory = np.zeros_like(perp)\n",
    "\n",
    "# pick the features from encoding to keep\n",
    "n_keep = int(s*n_features)\n",
    "keep_features = np.random.choice(range(n_features), size=n_keep, replace=False)\n",
    "print keep_features\n",
    "\n",
    "# insert same values into memory\n",
    "memory[keep_features] = perp[keep_features]\n",
    "\n",
    "# replace remaining zeros with new values from uniform distrn\n",
    "memory[np.where(memory==0)] = np.random.uniform(-.5,.5, size=n_features-n_keep)\n",
    "print memory"
   ]
  },
  {
   "cell_type": "markdown",
   "metadata": {
    "inputHidden": false,
    "outputHidden": false
   },
   "source": [
    "### 3. Handling complex similarity relationships between the perpetrator and the foils\n",
    "\n",
    "In this simplified version of WITNESS, there is one parameter, $sim$, that represents the similarity between a perpetrator and a foil.\n",
    "\n",
    "This is, again, a fraction of the total features that should be identical between the vectors representing perpetrator and any given foil.\n",
    "\n",
    "Code would look very similar to the example above."
   ]
  },
  {
   "cell_type": "markdown",
   "metadata": {},
   "source": [
    "### 4. Retrieval (\"doing\" the lineup)\n",
    "\n",
    "In a real lineup, you look at each face one-by-own, going down the line, and comparing the similarity of each face to the face you are holding in memory. To simulate this in WITNESS, we use the dot product.\n",
    "\n",
    "A dot product, $d$, is a measure of similarity between two vectors.\n",
    "\n",
    "The greater the dot product, the more similar two vectors are. In WITNESS, the recognition decision relies on evaluating dot products between the faces in the lineup and $\\textbf{M}$, the memory of the perpetrator."
   ]
  },
  {
   "cell_type": "code",
   "execution_count": 37,
   "metadata": {
    "inputHidden": false,
    "outputHidden": false
   },
   "outputs": [
    {
     "name": "stdout",
     "output_type": "stream",
     "text": [
      "[-0.49 -0.11  0.1   0.21  0.36 -0.43 -0.33 -0.21 -0.39 -0.14]\n",
      "[-0.27 -0.08 -0.01  0.21 -0.13 -0.33 -0.33 -0.06 -0.39  0.15]\n",
      "[-0.49 -0.11  0.1  -0.13  0.36 -0.43 -0.33 -0.21  0.22 -0.14]\n",
      "0.529046953917\n",
      "0.629654701899\n",
      "0.941753544369\n"
     ]
    }
   ],
   "source": [
    "n_features = 10\n",
    "\n",
    "perp = np.random.uniform(-.5,.5, size=n_features)\n",
    "\n",
    "def create_foil(perp, s):\n",
    "    # this is similar code from above, turned into a function\n",
    "    # so to return a new foil with predefined similarity\n",
    "    n_features = perp.size\n",
    "    foil = np.zeros_like(perp)\n",
    "    n_same = int(s*n_features)\n",
    "    same_features = np.random.choice(range(n_features), size=n_same, replace=False)\n",
    "    foil[same_features] = perp[same_features]\n",
    "    foil[np.where(foil==0)] = np.random.uniform(-.5,.5, size=n_features-n_same)\n",
    "    return foil\n",
    "\n",
    "foil_a = create_foil(perp, s=0.3)\n",
    "foil_b = create_foil(perp, s=0.8)\n",
    "\n",
    "print perp\n",
    "print foil_a\n",
    "print foil_b\n",
    "\n",
    "# cycle through the lineup and see who \"looks\" most similar to the perp\n",
    "for face in [foil_a, foil_b, perp]:\n",
    "    similarity = np.dot(perp, face)\n",
    "    print similarity"
   ]
  },
  {
   "cell_type": "markdown",
   "metadata": {
    "inputHidden": false,
    "outputHidden": false
   },
   "source": [
    "We just compared lineup faces to the _actual_ perpertrator, not the _memory_ of the perp. So obviously in the lineup you are using your memory, so let's do that.\n",
    "\n",
    "I am going to cheat and use the create_foil function to make a memory vector of the perp, to avoid redoing that code. This works fine, as long as the $s$ parameter is specified appropriately."
   ]
  },
  {
   "cell_type": "code",
   "execution_count": 49,
   "metadata": {
    "inputHidden": false,
    "outputHidden": false
   },
   "outputs": [
    {
     "name": "stdout",
     "output_type": "stream",
     "text": [
      "1.26346287141\n",
      "0.272612230545\n",
      "0.548494083404\n"
     ]
    }
   ],
   "source": [
    "perp = np.random.uniform(-.5,.5, size=n_features)\n",
    "\n",
    "foil_a = create_foil(perp, s=0.2)\n",
    "foil_b = create_foil(perp, s=0.5)\n",
    "\n",
    "memory = create_foil(perp, s=0.9)\n",
    "\n",
    "for face in [perp, foil_a, foil_b]:\n",
    "    similarity = np.dot(memory, face)\n",
    "    print similarity"
   ]
  },
  {
   "cell_type": "markdown",
   "metadata": {},
   "source": [
    "### 5. Different response types\n",
    "\n",
    "There are 2 different response types from someone participating (as judge) in the lineup.\n",
    "\n",
    "* identification (\"it's him\")\n",
    "    * could be right or wrong\n",
    "* rejection (\"perp is not present\")\n",
    "\n",
    "**Now we have a simple decision criterion.**\n",
    "\n",
    "When cycling through the faces, if the highest similarity measure is above a threshold, $c_{rec}$, the model chooses that person as the perp (ie, response is _identification_). Else, if no similarity measure passes $c_{rec}$, then response is a _rejection_."
   ]
  },
  {
   "cell_type": "markdown",
   "metadata": {},
   "source": [
    "# WITNESSSSSSSS\n",
    "\n",
    "\n",
    "### Verbal overshadowing\n",
    "\n",
    "When people complete a verbal report of the crime after viewing it, it surprisingly results in _fewer_ correct identifications of the perpetrator.\n",
    "\n",
    "The purpose of using WITNESS here is to differentiate between different possible explanations.\n",
    "\n",
    "1. **Memory** explanation - memory is hurt\n",
    "2. **criterion** explanation - people are more reluctant to pick\n",
    "\n",
    "\n",
    "### Forced-choice situation\n",
    "* Criterion predicts that in a forced-choice situation, they should perform just as well as if they didn't do the verbal reporting. The memory explanation would results in lesser correct identifications in either case.\n",
    "\n",
    "\n",
    "### Optional-choice situation\n",
    "* If perp _is_ present, both expect poorer performance, but criterion case predicts there to be more _rejection_ errors, while memory case predicts more false _identifications_.\n",
    "* If perp _is not_ present, criterion expects increase in accuracy, and memory again predicts worse performance.\n",
    "\n",
    "\n",
    "### What are we doing?\n",
    "\n",
    "Book focuses on two experiments from Clare and Lewandowsky (2004).\n",
    "\n",
    "1. (exp1) optional-choice with perp present and not present\n",
    "2. (exp2) forced-choice with perp always present\n",
    "\n",
    "\n",
    "### We have to estimate 5 free parameters.\n",
    "\n",
    "> $s = $ encoding strength (how much does perception degrade to memory)\n",
    "\n",
    ">$sim = $ similarity (between perp and foils)\n",
    "\n",
    ">$c_{rec}(C) = $ baseline criterion (to pick the perp)\n",
    "\n",
    ">$c_{rec}(H) = $ holistic criterion ($c_{rec}(C)$ after holistic verbalization)\n",
    "\n",
    ">$c_{rec}(F) = $ featural criterion ($c_{rec}(C)$ after featural verbalization)\n",
    "\n",
    "\n",
    "## Functions we will be using to run the model\n",
    "\n",
    "Before making the main WITNESS function, I'd rather make the small tedious ones first (the book does it reverse)."
   ]
  },
  {
   "cell_type": "code",
   "execution_count": 48,
   "metadata": {},
   "outputs": [],
   "source": [
    "# getvec\n",
    "def makeface(n_feats):\n",
    "    '''return a vector representing humAn face'''\n",
    "    return np.random.uniform(-.5,+.5, size=n_feats)\n",
    "#     return np.random.rand(n_feats)\n",
    "\n",
    "# getsimvec\n",
    "def makesimface(face, s):\n",
    "    '''return a face with proportion s similar features'''\n",
    "    n_feats = face.size\n",
    "    mask = np.random.uniform(size=n_feats) < s\n",
    "    return face*mask + ~mask*makeface(n_feats)\n",
    "\n",
    "def decision(match_vals, cRec):\n",
    "    if np.max(match_vals) < cRec:\n",
    "        response = 2 # reject\n",
    "    else:\n",
    "        j = np.argmax(match_vals)\n",
    "        if j == 0: # suspect or perp is always first in lineup\n",
    "            response = 0\n",
    "        else:\n",
    "            response = 1\n",
    "    return response"
   ]
  },
  {
   "cell_type": "markdown",
   "metadata": {},
   "source": [
    "Now we make the main WITNESS function. Then we have to make the script that does the actual simulation."
   ]
  },
  {
   "cell_type": "code",
   "execution_count": 60,
   "metadata": {
    "inputHidden": false,
    "outputHidden": false
   },
   "outputs": [],
   "source": [
    "# first initiate an object to carry around constants\n",
    "class Consts(object):\n",
    "    seed = 21335\n",
    "    lu_size = 6\n",
    "    n_reps = 1000\n",
    "    n_feats = 100\n",
    "    n_cond = 9\n",
    "    f_choice = [6,7,8]\n",
    "    paLineup = [3,4,5]\n",
    "    ptToCrit = [2,3,4,2,3,4]\n",
    "    maxParms = [1,1,np.inf,np.inf,np.inf]\n",
    "    \n",
    "    \n",
    "# the WITNESS function\n",
    "def witness(params):\n",
    "    \n",
    "    # get individual parameters from the input\n",
    "    s = params[0]\n",
    "    sim = params[1]\n",
    "    pa_sim = sim # similarity to others when perp absent\n",
    "    pp_sim = sim # similarity to others when perp present\n",
    "    ssp = sim # similarity of person replacing perp on perp absent lineups\n",
    "   \n",
    "    \n",
    "    # zero vector to hold values\n",
    "    predictions = np.zeros([Consts.n_cond, 3])\n",
    "    \n",
    "    # cycle through the peeps\n",
    "    for i in range(Consts.n_reps):\n",
    "        \n",
    "        # perceive the perp\n",
    "        perp = makeface(Consts.n_feats)\n",
    "        # put him/her in memory using free parameter s\n",
    "        mem = makesimface(face=perp, s=s)\n",
    "        \n",
    "        # get an innocent suspect\n",
    "        niceguy = makesimface(face=perp, s=ssp)\n",
    "        \n",
    "        # create both types of lineup\n",
    "        pa_lineup = np.empty([Consts.lu_size, Consts.n_feats])\n",
    "        pa_lineup[0,:] = niceguy\n",
    "        pp_lineup = np.empty([Consts.lu_size, Consts.n_feats])\n",
    "        pp_lineup[0,:] = perp\n",
    "        for row in range(1,Consts.lu_size):\n",
    "            pa_lineup[row,:] = makesimface(face=perp, s=pa_sim)\n",
    "            pp_lineup[row,:] = makesimface(face=perp, s=pp_sim)\n",
    "            \n",
    "        # inspect the lineups\n",
    "        pa_matches = [ np.dot(mem,pa_lineup[person,:]) for person in range(Consts.lu_size) ]\n",
    "        pp_matches = [ np.dot(mem,pp_lineup[person,:]) for person in range(Consts.lu_size) ]\n",
    "        \n",
    "        # witness responds across all different conditions\n",
    "        for lineup_indx in range(Consts.n_cond):\n",
    "            if np.isin(lineup_indx, Consts.f_choice):\n",
    "                # if this is a forced-choice condition, must respond\n",
    "                cRec = 0\n",
    "            else:\n",
    "                cRec = params[Consts.ptToCrit[lineup_indx]]\n",
    "            \n",
    "            # choose between perp present or perp absent\n",
    "            if np.isin(lineup_indx, Consts.paLineup):\n",
    "                useMatch = pa_matches\n",
    "            else:\n",
    "                useMatch = pp_matches\n",
    "            \n",
    "            # make a decision and save it\n",
    "            resp = decision(useMatch, cRec)\n",
    "            predictions[lineup_indx,resp] += 1\n",
    "            \n",
    "    return predictions / Consts.n_reps"
   ]
  },
  {
   "cell_type": "markdown",
   "metadata": {},
   "source": [
    "Great that did nothing but establish the function.\n",
    "\n",
    "**_BEFORE_** we do the whole parameter search thing, let's see what some of what we just did looks like. We made a function, `witness`, that is supposed to estimate a lineup situation. It makes a fake perp, a fake lineup, and makes a decision. It takes is input, _an array of parameters that is repeatedly passed from fminsearch_.\n",
    "\n",
    "BUT, we can see what happens, just by giving it a single set of parameters manually.\n",
    "\n",
    "I don't know what will work, so I'm going to take the parameters they start with."
   ]
  },
  {
   "cell_type": "code",
   "execution_count": 61,
   "metadata": {
    "inputHidden": false,
    "outputHidden": false
   },
   "outputs": [
    {
     "name": "stdout",
     "output_type": "stream",
     "text": [
      "[[ 0.79  0.18  0.03]\n",
      " [ 0.59  0.08  0.33]\n",
      " [ 0.68  0.12  0.2 ]\n",
      " [ 0.14  0.77  0.09]\n",
      " [ 0.05  0.27  0.68]\n",
      " [ 0.09  0.42  0.5 ]\n",
      " [ 0.81  0.19  0.  ]\n",
      " [ 0.81  0.19  0.  ]\n",
      " [ 0.81  0.19  0.  ]]\n"
     ]
    }
   ],
   "source": [
    "start_params = [0.29, 0.35, 1.05, 2.10, 1.80]\n",
    "print witness(start_params)"
   ]
  },
  {
   "cell_type": "markdown",
   "metadata": {},
   "source": [
    "Each row is one of nine conditions we ran through (see figure 7.2)\n",
    "\n",
    "Each column is a type of _response_, which is hard to define here because each row represents a different set of conditions (even different experiment, as 1-6 rows are exp1 and 7-9 are exp2).\n",
    "\n",
    "But we now have something that can produce estimates of the data, **so now we can find best parameters.**"
   ]
  },
  {
   "cell_type": "markdown",
   "metadata": {
    "inputHidden": false,
    "outputHidden": false
   },
   "source": [
    "## Setting up the estimator function\n",
    "\n",
    "When we run the simulation, **all we really end up calling is wrapper4fmin**. However, there is stuff that we have to set-up _within_ the fmin thing.\n",
    "\n",
    "So here we set those up."
   ]
  },
  {
   "cell_type": "code",
   "execution_count": 62,
   "metadata": {},
   "outputs": [],
   "source": [
    "def bof(params):\n",
    "    '''this plays the important role of evaluating the \n",
    "    \"performance\" of a given parameter set (RMSD in this case)\n",
    "    '''\n",
    "    predictions = witness(params)\n",
    "    sd = (predictions-data)**2\n",
    "    rmsd = np.sqrt(sum(sum(sd))/data.size)\n",
    "    return rmsd\n",
    "\n",
    "# this wrapper is unnecessary as far as i can tell\n",
    "def Wwrapper4fminbound(params, data, bounds):\n",
    "    results = optimize.minimize(bof, params, bounds=bounds)\n",
    "    return results"
   ]
  },
  {
   "cell_type": "markdown",
   "metadata": {
    "inputHidden": false,
    "outputHidden": false
   },
   "source": [
    "## Lastly, parameter estimation and the final predictions with those params."
   ]
  },
  {
   "cell_type": "code",
   "execution_count": 64,
   "metadata": {
    "inputHidden": false,
    "outputHidden": false
   },
   "outputs": [
    {
     "name": "stdout",
     "output_type": "stream",
     "text": [
      "      fun: 0.064531359014794482\n",
      " hess_inv: <5x5 LbfgsInvHessProduct with dtype=float64>\n",
      "      jac: array([ -48334.46, -379269.6 ,   29490.45,  148322.97, -117229.99])\n",
      "  message: 'CONVERGENCE: REL_REDUCTION_OF_F_<=_FACTR*EPSMCH'\n",
      "     nfev: 168\n",
      "      nit: 2\n",
      "   status: 0\n",
      "  success: True\n",
      "        x: array([ 0.29,  0.35,  1.05,  2.09,  1.81])\n"
     ]
    }
   ],
   "source": [
    "# data is pulled from Clark & Lewandowsky (2004)\n",
    "\n",
    "data = np.array([\n",
    "    [.80, .13, .07], # pp control\n",
    "    [.57, .06, .36], # pp holistic\n",
    "    [.69, .12, .19], # pp featural\n",
    "    [.05, .72, .23], # pa control\n",
    "    [.20, .28, .52], # pa holistic\n",
    "    [.00, .48, .52], # pa featural\n",
    "    [.86, .14, .00], # exp2 control (exp2 is forced-choice)\n",
    "    [.81, .19, .00], # exp 2 holistic\n",
    "    [.84, .16, .00], # exp 2 featural\n",
    "])\n",
    "\n",
    "start_params = np.array([\n",
    "    0.2942, # s\n",
    "    0.3508, # sim\n",
    "    1.0455, # cRec - control\n",
    "    2.0930, # cRec - holistic\n",
    "    1.8050, # cRec - featural\n",
    "])\n",
    "\n",
    "# bounds are expressed as (min, max) pairs for each parameter\n",
    "bounds = [\n",
    "    (0, Consts.maxParms[0]),\n",
    "    (0, Consts.maxParms[1]),\n",
    "    (0, Consts.maxParms[2]),\n",
    "    (0, Consts.maxParms[3]),\n",
    "    (0, Consts.maxParms[4]),\n",
    "]\n",
    "\n",
    "\n",
    "# results = Wwrapper4fminbound(start_params, data, bounds)\n",
    "results = optimize.minimize(bof, start_params, bounds=bounds)\n",
    "\n",
    "print results"
   ]
  },
  {
   "cell_type": "code",
   "execution_count": 65,
   "metadata": {
    "inputHidden": false,
    "outputHidden": false
   },
   "outputs": [
    {
     "name": "stdout",
     "output_type": "stream",
     "text": [
      "[[ 0.8   0.17  0.03]\n",
      " [ 0.62  0.07  0.3 ]\n",
      " [ 0.7   0.1   0.19]\n",
      " [ 0.16  0.77  0.07]\n",
      " [ 0.05  0.28  0.68]\n",
      " [ 0.08  0.44  0.48]\n",
      " [ 0.81  0.19  0.  ]\n",
      " [ 0.81  0.19  0.  ]\n",
      " [ 0.81  0.19  0.  ]]\n"
     ]
    }
   ],
   "source": [
    "final_predictions = witness(results.x)\n",
    "\n",
    "print final_predictions"
   ]
  },
  {
   "cell_type": "markdown",
   "metadata": {},
   "source": [
    "# Plotting\n",
    "\n",
    "To recreate a subset of the book figures, we will plot the _true_ data underneath the _predicted_ data, to qualitatively assess how well the model performed--**given its final set of parameters**."
   ]
  },
  {
   "cell_type": "code",
   "execution_count": 66,
   "metadata": {},
   "outputs": [
    {
     "data": {
      "text/plain": [
       "<function matplotlib.pyplot.ion>"
      ]
     },
     "execution_count": 66,
     "metadata": {},
     "output_type": "execute_result"
    }
   ],
   "source": [
    "from pandas import DataFrame, MultiIndex\n",
    "import matplotlib.pyplot as plt\n",
    "import seaborn as sea\n",
    "plt.ion"
   ]
  },
  {
   "cell_type": "code",
   "execution_count": 67,
   "metadata": {
    "inputHidden": false,
    "outputHidden": false
   },
   "outputs": [
    {
     "data": {
      "text/html": [
       "<div>\n",
       "<style scoped>\n",
       "    .dataframe tbody tr th:only-of-type {\n",
       "        vertical-align: middle;\n",
       "    }\n",
       "\n",
       "    .dataframe tbody tr th {\n",
       "        vertical-align: top;\n",
       "    }\n",
       "\n",
       "    .dataframe thead th {\n",
       "        text-align: right;\n",
       "    }\n",
       "</style>\n",
       "<table border=\"1\" class=\"dataframe\">\n",
       "  <thead>\n",
       "    <tr style=\"text-align: right;\">\n",
       "      <th></th>\n",
       "      <th></th>\n",
       "      <th>hit</th>\n",
       "      <th>false_id</th>\n",
       "      <th>miss</th>\n",
       "    </tr>\n",
       "  </thead>\n",
       "  <tbody>\n",
       "    <tr>\n",
       "      <th rowspan=\"3\" valign=\"top\">pp</th>\n",
       "      <th>control</th>\n",
       "      <td>0.80</td>\n",
       "      <td>0.13</td>\n",
       "      <td>0.07</td>\n",
       "    </tr>\n",
       "    <tr>\n",
       "      <th>holistic</th>\n",
       "      <td>0.57</td>\n",
       "      <td>0.06</td>\n",
       "      <td>0.36</td>\n",
       "    </tr>\n",
       "    <tr>\n",
       "      <th>featural</th>\n",
       "      <td>0.69</td>\n",
       "      <td>0.12</td>\n",
       "      <td>0.19</td>\n",
       "    </tr>\n",
       "    <tr>\n",
       "      <th rowspan=\"3\" valign=\"top\">pa</th>\n",
       "      <th>control</th>\n",
       "      <td>0.05</td>\n",
       "      <td>0.72</td>\n",
       "      <td>0.23</td>\n",
       "    </tr>\n",
       "    <tr>\n",
       "      <th>holistic</th>\n",
       "      <td>0.20</td>\n",
       "      <td>0.28</td>\n",
       "      <td>0.52</td>\n",
       "    </tr>\n",
       "    <tr>\n",
       "      <th>featural</th>\n",
       "      <td>0.00</td>\n",
       "      <td>0.48</td>\n",
       "      <td>0.52</td>\n",
       "    </tr>\n",
       "  </tbody>\n",
       "</table>\n",
       "</div>"
      ],
      "text/plain": [
       "              hit  false_id  miss\n",
       "pp control   0.80      0.13  0.07\n",
       "   holistic  0.57      0.06  0.36\n",
       "   featural  0.69      0.12  0.19\n",
       "pa control   0.05      0.72  0.23\n",
       "   holistic  0.20      0.28  0.52\n",
       "   featural  0.00      0.48  0.52"
      ]
     },
     "execution_count": 67,
     "metadata": {},
     "output_type": "execute_result"
    }
   ],
   "source": [
    "df = DataFrame(data[:6,:],\n",
    "    columns=['hit','false_id','miss'],\n",
    "    index=MultiIndex.from_tuples([\n",
    "        ('pp', 'control'),\n",
    "        ('pp', 'holistic'),\n",
    "        ('pp', 'featural'),\n",
    "        ('pa', 'control'),\n",
    "        ('pa', 'holistic'),\n",
    "        ('pa', 'featural'),\n",
    "    ])\n",
    ")\n",
    "\n",
    "df"
   ]
  },
  {
   "cell_type": "code",
   "execution_count": 68,
   "metadata": {
    "inputHidden": false,
    "outputHidden": false
   },
   "outputs": [
    {
     "data": {
      "text/html": [
       "<div>\n",
       "<style scoped>\n",
       "    .dataframe tbody tr th:only-of-type {\n",
       "        vertical-align: middle;\n",
       "    }\n",
       "\n",
       "    .dataframe tbody tr th {\n",
       "        vertical-align: top;\n",
       "    }\n",
       "\n",
       "    .dataframe thead th {\n",
       "        text-align: right;\n",
       "    }\n",
       "</style>\n",
       "<table border=\"1\" class=\"dataframe\">\n",
       "  <thead>\n",
       "    <tr style=\"text-align: right;\">\n",
       "      <th></th>\n",
       "      <th>perp</th>\n",
       "      <th>verbreport</th>\n",
       "      <th>resp_type</th>\n",
       "      <th>resp_proportion</th>\n",
       "    </tr>\n",
       "  </thead>\n",
       "  <tbody>\n",
       "    <tr>\n",
       "      <th>0</th>\n",
       "      <td>pp</td>\n",
       "      <td>control</td>\n",
       "      <td>hit</td>\n",
       "      <td>0.80</td>\n",
       "    </tr>\n",
       "    <tr>\n",
       "      <th>1</th>\n",
       "      <td>pp</td>\n",
       "      <td>holistic</td>\n",
       "      <td>hit</td>\n",
       "      <td>0.57</td>\n",
       "    </tr>\n",
       "    <tr>\n",
       "      <th>2</th>\n",
       "      <td>pp</td>\n",
       "      <td>featural</td>\n",
       "      <td>hit</td>\n",
       "      <td>0.69</td>\n",
       "    </tr>\n",
       "    <tr>\n",
       "      <th>3</th>\n",
       "      <td>pa</td>\n",
       "      <td>control</td>\n",
       "      <td>hit</td>\n",
       "      <td>0.05</td>\n",
       "    </tr>\n",
       "    <tr>\n",
       "      <th>4</th>\n",
       "      <td>pa</td>\n",
       "      <td>holistic</td>\n",
       "      <td>hit</td>\n",
       "      <td>0.20</td>\n",
       "    </tr>\n",
       "    <tr>\n",
       "      <th>5</th>\n",
       "      <td>pa</td>\n",
       "      <td>featural</td>\n",
       "      <td>hit</td>\n",
       "      <td>0.00</td>\n",
       "    </tr>\n",
       "    <tr>\n",
       "      <th>6</th>\n",
       "      <td>pp</td>\n",
       "      <td>control</td>\n",
       "      <td>false_id</td>\n",
       "      <td>0.13</td>\n",
       "    </tr>\n",
       "    <tr>\n",
       "      <th>7</th>\n",
       "      <td>pp</td>\n",
       "      <td>holistic</td>\n",
       "      <td>false_id</td>\n",
       "      <td>0.06</td>\n",
       "    </tr>\n",
       "    <tr>\n",
       "      <th>8</th>\n",
       "      <td>pp</td>\n",
       "      <td>featural</td>\n",
       "      <td>false_id</td>\n",
       "      <td>0.12</td>\n",
       "    </tr>\n",
       "    <tr>\n",
       "      <th>9</th>\n",
       "      <td>pa</td>\n",
       "      <td>control</td>\n",
       "      <td>false_id</td>\n",
       "      <td>0.72</td>\n",
       "    </tr>\n",
       "    <tr>\n",
       "      <th>10</th>\n",
       "      <td>pa</td>\n",
       "      <td>holistic</td>\n",
       "      <td>false_id</td>\n",
       "      <td>0.28</td>\n",
       "    </tr>\n",
       "    <tr>\n",
       "      <th>11</th>\n",
       "      <td>pa</td>\n",
       "      <td>featural</td>\n",
       "      <td>false_id</td>\n",
       "      <td>0.48</td>\n",
       "    </tr>\n",
       "    <tr>\n",
       "      <th>12</th>\n",
       "      <td>pp</td>\n",
       "      <td>control</td>\n",
       "      <td>miss</td>\n",
       "      <td>0.07</td>\n",
       "    </tr>\n",
       "    <tr>\n",
       "      <th>13</th>\n",
       "      <td>pp</td>\n",
       "      <td>holistic</td>\n",
       "      <td>miss</td>\n",
       "      <td>0.36</td>\n",
       "    </tr>\n",
       "    <tr>\n",
       "      <th>14</th>\n",
       "      <td>pp</td>\n",
       "      <td>featural</td>\n",
       "      <td>miss</td>\n",
       "      <td>0.19</td>\n",
       "    </tr>\n",
       "    <tr>\n",
       "      <th>15</th>\n",
       "      <td>pa</td>\n",
       "      <td>control</td>\n",
       "      <td>miss</td>\n",
       "      <td>0.23</td>\n",
       "    </tr>\n",
       "    <tr>\n",
       "      <th>16</th>\n",
       "      <td>pa</td>\n",
       "      <td>holistic</td>\n",
       "      <td>miss</td>\n",
       "      <td>0.52</td>\n",
       "    </tr>\n",
       "    <tr>\n",
       "      <th>17</th>\n",
       "      <td>pa</td>\n",
       "      <td>featural</td>\n",
       "      <td>miss</td>\n",
       "      <td>0.52</td>\n",
       "    </tr>\n",
       "  </tbody>\n",
       "</table>\n",
       "</div>"
      ],
      "text/plain": [
       "   perp verbreport resp_type  resp_proportion\n",
       "0    pp    control       hit             0.80\n",
       "1    pp   holistic       hit             0.57\n",
       "2    pp   featural       hit             0.69\n",
       "3    pa    control       hit             0.05\n",
       "4    pa   holistic       hit             0.20\n",
       "5    pa   featural       hit             0.00\n",
       "6    pp    control  false_id             0.13\n",
       "7    pp   holistic  false_id             0.06\n",
       "8    pp   featural  false_id             0.12\n",
       "9    pa    control  false_id             0.72\n",
       "10   pa   holistic  false_id             0.28\n",
       "11   pa   featural  false_id             0.48\n",
       "12   pp    control      miss             0.07\n",
       "13   pp   holistic      miss             0.36\n",
       "14   pp   featural      miss             0.19\n",
       "15   pa    control      miss             0.23\n",
       "16   pa   holistic      miss             0.52\n",
       "17   pa   featural      miss             0.52"
      ]
     },
     "execution_count": 68,
     "metadata": {},
     "output_type": "execute_result"
    }
   ],
   "source": [
    "df = df.reset_index().rename(columns={\n",
    "    'level_0': 'perp',\n",
    "    'level_1': 'verbreport',\n",
    "})\n",
    "\n",
    "df = df.melt(value_vars=['hit','false_id','miss'], id_vars=['perp','verbreport'],\n",
    "       var_name='resp_type', value_name='resp_proportion')\n",
    "\n",
    "df"
   ]
  },
  {
   "cell_type": "code",
   "execution_count": 69,
   "metadata": {
    "inputHidden": false,
    "outputHidden": false
   },
   "outputs": [
    {
     "data": {
      "image/png": "[encoded data removed]",
      "text/plain": [
       "<matplotlib.figure.Figure at 0x119dc7c90>"
      ]
     },
     "metadata": {},
     "output_type": "display_data"
    }
   ],
   "source": [
    "# Plot top row form figure 7.4\n",
    "# Perpetrator present\n",
    "ax = sea.factorplot(data=df[df['perp']=='pp'], x='verbreport', y='resp_proportion', col='resp_type', kind='bar')"
   ]
  },
  {
   "cell_type": "code",
   "execution_count": 72,
   "metadata": {
    "inputHidden": false,
    "outputHidden": false
   },
   "outputs": [
    {
     "name": "stdout",
     "output_type": "stream",
     "text": [
      "predictions dataframe\n",
      "   perp verbreport resp_type  resp_proportion\n",
      "0    pp    control       hit            0.799\n",
      "1    pp   holistic       hit            0.623\n",
      "2    pp   featural       hit            0.703\n",
      "3    pa    control       hit            0.159\n",
      "4    pa   holistic       hit            0.048\n",
      "5    pa   featural       hit            0.079\n",
      "6    pp    control  false_id            0.169\n",
      "7    pp   holistic  false_id            0.074\n",
      "8    pp   featural  false_id            0.105\n",
      "9    pa    control  false_id            0.768\n",
      "10   pa   holistic  false_id            0.277\n",
      "11   pa   featural  false_id            0.442\n",
      "12   pp    control      miss            0.032\n",
      "13   pp   holistic      miss            0.303\n",
      "14   pp   featural      miss            0.192\n",
      "15   pa    control      miss            0.073\n",
      "16   pa   holistic      miss            0.675\n",
      "17   pa   featural      miss            0.479\n",
      "original dataframe appended\n",
      "   perp verbreport resp_type  resp_proportion  prediction\n",
      "0    pp    control       hit             0.80       0.799\n",
      "1    pp   holistic       hit             0.57       0.623\n",
      "2    pp   featural       hit             0.69       0.703\n",
      "3    pa    control       hit             0.05       0.159\n",
      "4    pa   holistic       hit             0.20       0.048\n",
      "5    pa   featural       hit             0.00       0.079\n",
      "6    pp    control  false_id             0.13       0.169\n",
      "7    pp   holistic  false_id             0.06       0.074\n",
      "8    pp   featural  false_id             0.12       0.105\n",
      "9    pa    control  false_id             0.72       0.768\n",
      "10   pa   holistic  false_id             0.28       0.277\n",
      "11   pa   featural  false_id             0.48       0.442\n",
      "12   pp    control      miss             0.07       0.032\n",
      "13   pp   holistic      miss             0.36       0.303\n",
      "14   pp   featural      miss             0.19       0.192\n",
      "15   pa    control      miss             0.23       0.073\n",
      "16   pa   holistic      miss             0.52       0.675\n",
      "17   pa   featural      miss             0.52       0.479\n"
     ]
    }
   ],
   "source": [
    "# Plot the same thing but with predictions overlayed\n",
    "\n",
    "# add predictions to dataframe\n",
    "# by doing everything we did up there to the final_predictions array (instead of data)\n",
    "pred_df = DataFrame(final_predictions[:6,:],\n",
    "    columns=['hit','false_id','miss'],\n",
    "    index=MultiIndex.from_tuples([\n",
    "        ('pp', 'control'),\n",
    "        ('pp', 'holistic'),\n",
    "        ('pp', 'featural'),\n",
    "        ('pa', 'control'),\n",
    "        ('pa', 'holistic'),\n",
    "        ('pa', 'featural'),\n",
    "    ])\n",
    ").reset_index(\n",
    "    ).rename(columns={\n",
    "        'level_0': 'perp',\n",
    "        'level_1': 'verbreport',\n",
    "    }).melt(\n",
    "        value_vars=['hit','false_id','miss'],\n",
    "        id_vars=['perp','verbreport'],\n",
    "        var_name='resp_type', value_name='resp_proportion'\n",
    ")\n",
    "\n",
    "print 'predictions dataframe'\n",
    "print pred_df\n",
    "\n",
    "df['prediction'] = pred_df['resp_proportion']\n",
    "\n",
    "print 'original dataframe appended'\n",
    "print df"
   ]
  },
  {
   "cell_type": "code",
   "execution_count": 73,
   "metadata": {},
   "outputs": [
    {
     "data": {
      "text/plain": [
       "<seaborn.axisgrid.FacetGrid at 0x119dc7490>"
      ]
     },
     "execution_count": 73,
     "metadata": {},
     "output_type": "execute_result"
    },
    {
     "data": {
      "image/png": "[encoded data removed]",
      "text/plain": [
       "<matplotlib.figure.Figure at 0x119dc7a50>"
      ]
     },
     "metadata": {},
     "output_type": "display_data"
    }
   ],
   "source": [
    "# plot the overlayed stuff\n",
    "\n",
    "g = sea.FacetGrid(df[df['perp']=='pp'], col='resp_type')\n",
    "order = ['control','holistic','featural']\n",
    "g.map(sea.barplot, 'verbreport', 'resp_proportion', order=order, zorder=0)\n",
    "g.map(sea.pointplot,'verbreport', 'prediction', color='black', order=order, zorder=10)"
   ]
  },
  {
   "cell_type": "code",
   "execution_count": null,
   "metadata": {
    "collapsed": true
   },
   "outputs": [],
   "source": []
  }
 ],
 "metadata": {
  "anaconda-cloud": {},
  "kernel_info": {
   "name": "workspace-env"
  },
  "kernelspec": {
   "display_name": "workspace-env",
   "language": "python",
   "name": "workspace"
  },
  "language_info": {
   "codemirror_mode": {
    "name": "ipython",
    "version": 2
   },
   "file_extension": ".py",
   "mimetype": "text/x-python",
   "name": "python",
   "nbconvert_exporter": "python",
   "pygments_lexer": "ipython2",
   "version": "2.7.14"
  },
  "nteract": {
   "version": "0.7.1"
  }
 },
 "nbformat": 4,
 "nbformat_minor": 4
}
