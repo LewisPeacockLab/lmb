{
 "cells": [
  {
   "cell_type": "markdown",
   "metadata": {},
   "source": [
    "## Section 7.1.2 - Estimating multiple parameters (mixture modeling)"
   ]
  },
  {
   "cell_type": "code",
   "execution_count": 2,
   "metadata": {},
   "outputs": [],
   "source": [
    "from __future__ import division\n",
    "import numpy as np\n",
    "import pandas as pd\n",
    "from scipy import stats, special\n",
    "import seaborn as sea; sea.set_style('whitegrid')\n",
    "import matplotlib.pyplot as plt; plt.ion()"
   ]
  },
  {
   "cell_type": "markdown",
   "metadata": {},
   "source": [
    "Imagine we have a set of responses, and we think that some of them are from a Uniform distribution, and some are from a Normal distribution.\n",
    "\n",
    "We can _create_ a new distribution by simply combining the two. We think some responses come from a Normal distribution,\n",
    "$$ f(x\\mid \\mu,\\sigma^2) = \\frac{exp(-\\frac{(x-\\mu)^2}{2\\sigma^2})}{\\sqrt{2\\pi\\sigma^2}} $$\n",
    "and others come from a Uniform distribution,\n",
    "$$ f(x\\mid a,b) = \\frac{1}{b-a} $$\n",
    "\n",
    "\n",
    "### Circular space.\n",
    "Because we are using _circular_ space, we use the circular Normal (Von Mises) distribution, \n",
    "\n",
    "$$ f(x\\mid \\mu,k) = \\frac{e^{k \\cos(x-\\mu)}}{2\\pi I_0(k)} \\qquad (I_0(k)\\text{ is a fancy Bessel function}) $$\n",
    "\n",
    "and our Uniform distribution will be $\\mathcal{U}(-\\pi,\\pi)$\n",
    "\n",
    "$$ f(x\\mid -\\pi,\\pi) = \\frac{1}{\\pi-(-\\pi)} = \\frac{1}{2\\pi}$$\n",
    "\n",
    "### Combine\n",
    "\n",
    "To avoid rewriting the whole Von Mises distribution, we can just refer to it with the symbol $\\phi_{\\mu,k}$.\n",
    "\n",
    "**And here is where we enter one of our main parameters of interest, $g$.**\n",
    "\n",
    "This parameter denotes _what proportion of responses come from the Uniform_. Since $g$ is a proportion, it's restricted between $0$ and $1$. If the contribution of the Uniform is parameter $g$, then the contribution of the only other option--the Von Mises--is the value $1-g$.\n",
    "\n",
    "To combine the distributions into **one mixture model**, we just add the two together, with each contributing its appropriate proportion.\n",
    "\n",
    "$$ f(x\\mid k,\\sigma) = (1-g)\\phi_{\\mu,k}(x) + g\\frac{1}{2\\pi} $$\n",
    "\n",
    "The other parameter of interest is the $k$ parameter for the Von Mises distribution. This can be considered the standard deviation of the Von Mises, and we repeatedly use a `sd2kappa` function below, so that we can talk in terms of the more comfortable standard deviation, $\\sigma$. So below, we search for $\\sigma$, but the parameter in the distribution is $k$.\n",
    "\n",
    "Now we have 2 unknown parameters, $g$ and $\\sigma$. These are the parameters we want to _find_ with modeling, either through MLE or Bayesian estimation."
   ]
  },
  {
   "cell_type": "markdown",
   "metadata": {},
   "source": [
    "### Simulate the data"
   ]
  },
  {
   "cell_type": "code",
   "execution_count": 3,
   "metadata": {},
   "outputs": [
    {
     "data": {
      "text/html": [
       "<div>\n",
       "<style scoped>\n",
       "    .dataframe tbody tr th:only-of-type {\n",
       "        vertical-align: middle;\n",
       "    }\n",
       "\n",
       "    .dataframe tbody tr th {\n",
       "        vertical-align: top;\n",
       "    }\n",
       "\n",
       "    .dataframe thead th {\n",
       "        text-align: right;\n",
       "    }\n",
       "</style>\n",
       "<table border=\"1\" class=\"dataframe\">\n",
       "  <thead>\n",
       "    <tr style=\"text-align: right;\">\n",
       "      <th></th>\n",
       "      <th>sigma</th>\n",
       "      <th>g</th>\n",
       "    </tr>\n",
       "  </thead>\n",
       "  <tbody>\n",
       "    <tr>\n",
       "      <th>3</th>\n",
       "      <td>40</td>\n",
       "      <td>0.01</td>\n",
       "    </tr>\n",
       "    <tr>\n",
       "      <th>6</th>\n",
       "      <td>80</td>\n",
       "      <td>0.30</td>\n",
       "    </tr>\n",
       "  </tbody>\n",
       "</table>\n",
       "</div>"
      ],
      "text/plain": [
       "   sigma     g\n",
       "3     40  0.01\n",
       "6     80  0.30"
      ]
     },
     "execution_count": 3,
     "metadata": {},
     "output_type": "execute_result"
    }
   ],
   "source": [
    "# choose true parameters first\n",
    "tru_params = pd.DataFrame.from_dict({\n",
    "    3: dict(g=.01, sigma=40),\n",
    "    6: dict(g=.30, sigma=80)\n",
    "},orient='index')\n",
    "\n",
    "tru_params"
   ]
  },
  {
   "cell_type": "code",
   "execution_count": 3,
   "metadata": {},
   "outputs": [
    {
     "data": {
      "text/html": [
       "<div>\n",
       "<style scoped>\n",
       "    .dataframe tbody tr th:only-of-type {\n",
       "        vertical-align: middle;\n",
       "    }\n",
       "\n",
       "    .dataframe tbody tr th {\n",
       "        vertical-align: top;\n",
       "    }\n",
       "\n",
       "    .dataframe thead th {\n",
       "        text-align: right;\n",
       "    }\n",
       "</style>\n",
       "<table border=\"1\" class=\"dataframe\">\n",
       "  <thead>\n",
       "    <tr style=\"text-align: right;\">\n",
       "      <th></th>\n",
       "      <th></th>\n",
       "      <th>error</th>\n",
       "    </tr>\n",
       "    <tr>\n",
       "      <th>setsize</th>\n",
       "      <th>trial</th>\n",
       "      <th></th>\n",
       "    </tr>\n",
       "  </thead>\n",
       "  <tbody>\n",
       "    <tr>\n",
       "      <th rowspan=\"5\" valign=\"top\">3</th>\n",
       "      <th>0</th>\n",
       "      <td>13.478028</td>\n",
       "    </tr>\n",
       "    <tr>\n",
       "      <th>1</th>\n",
       "      <td>10.484050</td>\n",
       "    </tr>\n",
       "    <tr>\n",
       "      <th>2</th>\n",
       "      <td>-33.123371</td>\n",
       "    </tr>\n",
       "    <tr>\n",
       "      <th>3</th>\n",
       "      <td>-1.338769</td>\n",
       "    </tr>\n",
       "    <tr>\n",
       "      <th>4</th>\n",
       "      <td>0.902817</td>\n",
       "    </tr>\n",
       "  </tbody>\n",
       "</table>\n",
       "</div>"
      ],
      "text/plain": [
       "                   error\n",
       "setsize trial           \n",
       "3       0      13.478028\n",
       "        1      10.484050\n",
       "        2     -33.123371\n",
       "        3      -1.338769\n",
       "        4       0.902817"
      ]
     },
     "execution_count": 3,
     "metadata": {},
     "output_type": "execute_result"
    }
   ],
   "source": [
    "# use those parameters to simulate both conditions in one subject\n",
    "\n",
    "def sd2kappa(sd):\n",
    "    '''helper function for dealing with Von Mises shape parameter k\n",
    "    input: standard deviation in degrees\n",
    "    output: kappa in radians\n",
    "    '''\n",
    "    s = np.deg2rad(sd)\n",
    "    r = np.exp(-s**2 / 2)\n",
    "    if r < 0.53:\n",
    "         k = 2*r + r**3 + (5*r**5)/6\n",
    "    elif r < 0.85:\n",
    "         k = -.4 + 1.39*r + .43/(1-r)\n",
    "    else:\n",
    "        k = 1/(r**3 - 4*r**2 + 3*r)\n",
    "    return k\n",
    "\n",
    "\n",
    "n_trials = 1000\n",
    "\n",
    "data = pd.DataFrame(index=pd.MultiIndex.from_product(\n",
    "    [[3,6], range(n_trials)], names=['setsize','trial']),\n",
    "    columns=['error'], dtype=float)\n",
    "\n",
    "# simulate responses\n",
    "for ss, t in data.index:\n",
    "    \n",
    "    # extract true parameters\n",
    "    g, sigma = tru_params.loc[ss,['g','sigma']]\n",
    "\n",
    "    # g works probabilistically\n",
    "    rand = np.random.uniform()\n",
    "    if rand < g:\n",
    "        # respond from Uniform\n",
    "        error = np.random.uniform(-np.pi,np.pi)\n",
    "    else:\n",
    "        # respond from Von Mises\n",
    "        k = sd2kappa(sigma)\n",
    "        error = np.random.vonmises(mu=0,kappa=k)\n",
    "\n",
    "    # convert to degrees for interpretability\n",
    "    # (although going to convert back later)\n",
    "    data.loc[(ss,t),'error'] = np.rad2deg(error)\n",
    "\n",
    "\n",
    "data.head()"
   ]
  },
  {
   "cell_type": "markdown",
   "metadata": {},
   "source": [
    "### Inspect simulated data"
   ]
  },
  {
   "cell_type": "code",
   "execution_count": 4,
   "metadata": {},
   "outputs": [
    {
     "data": {
      "image/png": "[encoded data removed]",
      "text/plain": [
       "<matplotlib.figure.Figure at 0x10a2d2850>"
      ]
     },
     "metadata": {},
     "output_type": "display_data"
    }
   ],
   "source": [
    "ax = sea.distplot(list(data.loc[3,'error'].values), color='blue', label='set size 3')\n",
    "ax = sea.distplot(list(data.loc[6,'error'].values), color='orange', label='set size 6', ax=ax)\n",
    "plt.title('Response error distributions')\n",
    "plt.xlabel('Error')\n",
    "plt.ylabel('Density')\n",
    "plt.legend();"
   ]
  },
  {
   "cell_type": "markdown",
   "metadata": {},
   "source": [
    "### Try to \"recover\" the parameters using mixture modeling."
   ]
  },
  {
   "cell_type": "markdown",
   "metadata": {},
   "source": [
    "#### Preliminary tools"
   ]
  },
  {
   "cell_type": "code",
   "execution_count": 4,
   "metadata": {},
   "outputs": [],
   "source": [
    "def logmixturepdf(rad_data, g, sd):\n",
    "    '''get likelihood of the data given this parameter set\n",
    "    '''\n",
    "    # maybe insert a check here that it is wrapped around 0 too, by checking for pos and neg values\n",
    "    k = sd2kappa(sd)\n",
    "    vm_contribution = (1-g) * stats.vonmises(loc=0,kappa=k).pdf(rad_data)\n",
    "    unif_contribution = g * stats.uniform(-np.pi,2*np.pi).pdf(rad_data)\n",
    "    ll = np.sum(np.log(vm_contribution + unif_contribution))\n",
    "    return ll\n",
    "\n",
    "\n",
    "\n",
    "def logprior(g,sd):\n",
    "    '''priors are dependent on the parameters, so this gets new priors for each parameter set\n",
    "    '''\n",
    "    # jeffrey's prior for a proportion (g)\n",
    "    jf_prop = g**-.5 * (1-g)**-.5\n",
    "    \n",
    "    # jeffrey's prior for precision\n",
    "    k = sd2kappa(sd)\n",
    "    z = np.exp( (np.log(special.ive(1,k))+k) - (np.log(special.ive(0,k))+k) )\n",
    "    jf_prec = z * (k-z-k*z**2)\n",
    "    \n",
    "    # make log prior\n",
    "    return np.log(jf_prec) + np.log(jf_prop)"
   ]
  },
  {
   "cell_type": "markdown",
   "metadata": {},
   "source": [
    "#### Main function to implement Metropolis-Hastings MCMC"
   ]
  },
  {
   "cell_type": "code",
   "execution_count": 6,
   "metadata": {},
   "outputs": [],
   "source": [
    "def getmixtmodel(errors,start_params):\n",
    "    '''\n",
    "    ARGS:\n",
    "        errors        - 1D array of error data in radians (-pi,pi)\n",
    "        start_params  - [g, sigma]\n",
    "    RETURNS:\n",
    "        posterior     - [n_samples,2] array, 1st col is g samples, 2nd col is sigma samples\n",
    "    '''\n",
    "    chain = np.zeros([5000,2])\n",
    "    burnin = 500\n",
    "    propsd = start_params*.5\n",
    "    lower_bound = [0,4]\n",
    "    upper_bound = [1,360]\n",
    "    \n",
    "    chain[0,:] = start_params\n",
    "    for i in range(1,chain.shape[0]):\n",
    "        curr = chain[i-1,:]\n",
    "        \n",
    "        # make new proposal by adding noise to the current proposal\n",
    "        # and make sure it stays within our bounds\n",
    "        doitagain = True\n",
    "        while doitagain:\n",
    "            prop1 = curr + np.random.normal(0,propsd)\n",
    "            if np.any(prop1>upper_bound) or np.any(prop1<lower_bound):\n",
    "                doitagain = True\n",
    "            else:\n",
    "                doitagain = False\n",
    "        \n",
    "        # get the likelihood of current and proposed values\n",
    "        # **note this is where prior gets added\n",
    "        lpropval = logmixturepdf(errors, prop1[0], prop1[1]) + logprior(prop1[0], prop1[1])\n",
    "        lcurrval = logmixturepdf(errors, curr[0], curr[1]) + logprior(curr[0], curr[1])\n",
    "        # get likelihood ratio\n",
    "        llratio = np.exp(lpropval-lcurrval)\n",
    "        \n",
    "        # keep the sample on a probabilistic basis, dependent on the likelihood ratio\n",
    "        if np.random.uniform() < llratio:\n",
    "            chain[i,:] = prop1\n",
    "        else:\n",
    "            chain[i,:] = curr\n",
    "\n",
    "    # get rid of the burnin\n",
    "    posterior = chain[burnin:]\n",
    "\n",
    "    return posterior"
   ]
  },
  {
   "cell_type": "markdown",
   "metadata": {},
   "source": [
    "### Perform Metropolis-Hastings MCMC on our data to derive posteriors.\n",
    "_(recreating figure 7.4)_"
   ]
  },
  {
   "cell_type": "code",
   "execution_count": 7,
   "metadata": {},
   "outputs": [
    {
     "name": "stdout",
     "output_type": "stream",
     "text": [
      "## SET SIZE 3 ##\n",
      "FINAL PARAMS:\n",
      "    g = 0.015\n",
      "    sd = 41.458\n",
      "TRUE PARAMS:\n",
      "    g = 0.010\n",
      "    sd = 40.000\n",
      "## SET SIZE 6 ##\n",
      "FINAL PARAMS:\n",
      "    g = 0.215\n",
      "    sd = 84.770\n",
      "TRUE PARAMS:\n",
      "    g = 0.300\n",
      "    sd = 80.000\n"
     ]
    },
    {
     "data": {
      "image/png": "[encoded data removed]",
      "text/plain": [
       "<matplotlib.figure.Figure at 0x10a3caa10>"
      ]
     },
     "metadata": {},
     "output_type": "display_data"
    }
   ],
   "source": [
    "for setsize in [3,6]:\n",
    "\n",
    "    # extract data and start parameters from simulated stuff\n",
    "    errors = np.deg2rad(data.loc[setsize,'error'])\n",
    "    start_params = tru_params.loc[setsize,['g','sigma']]\n",
    "\n",
    "    # get the posterior from MCMC on the mixture model\n",
    "    posterior = getmixtmodel(errors, start_params)\n",
    "\n",
    "\n",
    "    # final parameters are the means of the accepted values\n",
    "    final_params = np.mean(posterior, axis=0)\n",
    "    g, sd = final_params\n",
    "\n",
    "    print '## SET SIZE {:d} ##'.format(setsize)\n",
    "    print 'FINAL PARAMS:'\n",
    "    print '    g = {:.03f}'.format(g)\n",
    "    print '    sd = {:.03f}'.format(sd)\n",
    "    print 'TRUE PARAMS:'\n",
    "    print '    g = {:.03f}'.format(start_params[0])\n",
    "    print '    sd = {:.03f}'.format(start_params[1])\n",
    "\n",
    "    if setsize == 3:\n",
    "        color = 'blue'\n",
    "    else:\n",
    "        color = 'orange'\n",
    "\n",
    "    # plot the distribution made from the final parameters estimates\n",
    "    x = np.linspace(-np.pi,np.pi,1000)\n",
    "    k = sd2kappa(sd)\n",
    "    y = (1-g)*stats.vonmises(loc=0,kappa=k).pdf(x) + g*stats.uniform(-np.pi,2*np.pi).pdf(x)\n",
    "\n",
    "    plt.plot(x,y, c=color, label='setsize {:d}'.format(setsize))\n",
    "\n",
    "\n",
    "    # plot the actual data, binned into dots\n",
    "    # bins = np.arange(np.floor(errors.min()),np.ceil(errors.max())+1)\n",
    "    bins = np.arange(-3.5,4.5)\n",
    "    hist, bins = np.histogram(errors, bins=bins, density=True)\n",
    "    # width = np.diff(bins) #need this for barplots\n",
    "    center = (bins[:-1] + bins[1:]) / 2\n",
    "    plt.scatter(center,hist, c=color)\n",
    "\n",
    "\n",
    "plt.ylabel('Proportion of responses')\n",
    "plt.xlabel('Difference from actual color value (radians)')\n",
    "plt.legend();"
   ]
  },
  {
   "cell_type": "markdown",
   "metadata": {},
   "source": [
    "## Figure 7.5"
   ]
  },
  {
   "cell_type": "code",
   "execution_count": 8,
   "metadata": {},
   "outputs": [
    {
     "data": {
      "image/png": "[encoded data removed]",
      "text/plain": [
       "<matplotlib.figure.Figure at 0x10a6273d0>"
      ]
     },
     "metadata": {},
     "output_type": "display_data"
    }
   ],
   "source": [
    "# redo the analysis, this time plotting the posterior distributions themselves, for each parameter\n",
    "\n",
    "f, axes = plt.subplots(2,2)\n",
    "axes.shape\n",
    "\n",
    "colors = ['blue','orange']\n",
    "\n",
    "for i, setsize in enumerate([3,6]):\n",
    "\n",
    "    # extract data and start parameters from simulated stuff\n",
    "    errors = np.deg2rad(data.loc[setsize,'error'])\n",
    "    start_params = tru_params.loc[setsize,['g','sigma']]\n",
    "\n",
    "    # get the posterior from MCMC on the mixture model\n",
    "    posterior = getmixtmodel(errors, start_params)\n",
    "\n",
    "    # extract posteriors for each distribution\n",
    "    post_g = posterior[:,0]\n",
    "    post_sigma = posterior[:,1]\n",
    "    \n",
    "    # plot\n",
    "    sea.kdeplot(post_g, color=colors[i], ax=axes[i,0])\n",
    "    sea.kdeplot(post_sigma, color=colors[i], ax=axes[i,1])\n",
    "\n",
    "\n",
    "for r, row in enumerate(axes):\n",
    "    for ax in row:\n",
    "        ax.set_ylabel('Density')\n",
    "        xlabel = 'Sampled values of g' if r==0 else 'Sampled values of sigma'\n",
    "        ax.set_xlabel(xlabel)"
   ]
  }
 ],
 "metadata": {
  "kernelspec": {
   "display_name": "workspace-env",
   "language": "python",
   "name": "workspace"
  },
  "language_info": {
   "codemirror_mode": {
    "name": "ipython",
    "version": 2
   },
   "file_extension": ".py",
   "mimetype": "text/x-python",
   "name": "python",
   "nbconvert_exporter": "python",
   "pygments_lexer": "ipython2",
   "version": "2.7.14"
  }
 },
 "nbformat": 4,
 "nbformat_minor": 2
}
