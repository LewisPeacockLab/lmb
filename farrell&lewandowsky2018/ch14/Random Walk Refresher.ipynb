{
 "cells": [
  {
   "cell_type": "code",
   "execution_count": null,
   "metadata": {
    "collapsed": true
   },
   "outputs": [],
   "source": [
    "%matplotlib inline\n",
    "#In this script, I'm going to generate a random walk model.  This is my first random walk model,\n",
    "#and is really simple.  Basically, it starts with evidence of 0 and randomly drifts\n",
    "# with a step size that is a normal gaussian with .3 std dev and a criterion of 3.\n",
    "\n",
    "#After running a number of random walks, I can plot a subsection of those to visualize results.\n",
    "#To do that, I will use matplotlib and seaborn (which sits on top of matplotlib)\n",
    "\n",
    "import numpy as np\n",
    "import matplotlib.pyplot as plt\n",
    "import seaborn as sns\n",
    "\n",
    "##Random Walk Model\n",
    "nreps=100 #How many repititions (or trials or whatever)\n",
    "nsamples=2000 #How many \"Steps\" are possible\n",
    "\n",
    "drift=0.0 #Non-informative stimulus (no positive or negative mean step influence)\n",
    "sdrw = 0.3 #This is the sd for the random walk\n",
    "criterion = 3.0 #Evidence accumulation for decision\n",
    "\n",
    "#Create blank vectors/matrices for storing model info\n",
    "latencies=np.repeat(0,nreps)\n",
    "responses=np.repeat(0,nreps)\n",
    "evidence=np.zeros((nreps,nsamples+1))\n",
    "\n",
    "#This is where we actually run the random walk model\n",
    "for i in range(nreps):\n",
    "    #We just create a cumulative sum of random normals generated for the nsamples possible.\n",
    "    evidence[i,:]=np.cumsum(np.append(0,np.random.normal(drift,sdrw,nsamples)))\n",
    "    #then See when (if) that accumulation crosses our criterion\n",
    "    p=np.argmax(abs(evidence[i,:])>criterion)\n",
    "    #Record whether that was a positive or negative threshold cross (so decision 1 or 2)\n",
    "    responses[i]=np.sign(evidence[i,p])\n",
    "    #Record the latency (how many \"steps\" to decision)\n",
    "    latencies[i]=p\n",
    "    "
   ]
  },
  {
   "cell_type": "code",
   "execution_count": null,
   "metadata": {},
   "outputs": [],
   "source": [
    "#Plot a few example walks.\n",
    "#plt.hold(True)\n",
    "plt.title('A Few random walks')\n",
    "plt.ylabel('Evidence')\n",
    "plt.xlabel('time')\n",
    "#draw arbitrary lines on the plot\n",
    "xLen=np.max(latencies[0:3])\n",
    "plt.plot(range(xLen),np.repeat(-3,len(range(xLen))),'k--')\n",
    "plt.plot(range(xLen),np.repeat(3,len(range(xLen))),'k--')\n",
    "#Now plot the first four random walks.  Though there are many more\n",
    "plt.plot(range(latencies[0]),evidence[0,0:latencies[0]],'b--')\n",
    "plt.plot(range(latencies[1]),evidence[1,0:latencies[1]],'r-.')\n",
    "plt.plot(range(latencies[2]),evidence[2,0:latencies[2]],'g')\n",
    "plt.plot(range(latencies[3]),evidence[3,0:latencies[3]],'y:')"
   ]
  },
  {
   "cell_type": "code",
   "execution_count": null,
   "metadata": {},
   "outputs": [],
   "source": [
    "#We can also plot a histogram of all of the latencies from these random walks. \n",
    "#That allows us to see the distribution of decision \"RTs\"\n",
    "#Seaborn distplot makes this super easy.\n",
    "sns.distplot(latencies)"
   ]
  },
  {
   "cell_type": "markdown",
   "metadata": {},
   "source": [
    "#### Now let's add a little bit of a wrinkle just to see how it impacts the model"
   ]
  },
  {
   "cell_type": "code",
   "execution_count": null,
   "metadata": {
    "collapsed": true
   },
   "outputs": [],
   "source": [
    "#This version extends the original model by allowing for a couple of changes.\n",
    "#   1) We are adding a slight trial by trial bias to the starting point (t2tsd[0])\n",
    "#   2) We are adding a positive bias to the drift rate (drift=0.03)\n",
    "#   3) we are allowing for drift rate to vary from trial to trial (t2tsd[1])\n",
    "\n",
    "import numpy as np\n",
    "import matplotlib.pyplot as plt\n",
    "import seaborn as sns\n",
    "\n",
    "##Random Walk Model\n",
    "nreps=1000\n",
    "nsamples=2000\n",
    "\n",
    "drift=0.03 #Drift rate is slightly positive, so we are biasing towards decision 1\n",
    "sdrw = 0.3 #set the standard dev of the drift rate\n",
    "criterion = 3.0 #Set the critierion\n",
    "\n",
    "#New introduction of trial to trial variability\n",
    "t2tsd=np.array([0.0,0.025]) \n",
    "\n",
    "latencies=np.repeat(0,nreps)\n",
    "responses=np.repeat(0,nreps)\n",
    "evidence=np.zeros((nreps,nsamples+1))\n",
    "\n",
    "for i in range(nreps):\n",
    "    #Set the starting point as varying around 0 with some sd set above.\n",
    "    sp=np.random.normal(0,t2tsd[0],1)\n",
    "    #Set the drift rate mean by selecting something varying the bias above and our bias std set above\n",
    "    dr=np.random.normal(drift,t2tsd[1],1)\n",
    "    evidence[i,:]=np.cumsum(np.append(sp,np.random.normal(dr,sdrw,nsamples)))\n",
    "    p=np.argmax(abs(evidence[i,:])>criterion)\n",
    "    responses[i]=np.sign(evidence[i,p])\n",
    "    latencies[i]=p\n"
   ]
  },
  {
   "cell_type": "code",
   "execution_count": null,
   "metadata": {},
   "outputs": [],
   "source": [
    "#Plot a few example walks.\n",
    "plt.hold(True)\n",
    "plt.title('A Few random walks')\n",
    "plt.ylabel('Evidence')\n",
    "plt.xlabel('time')\n",
    "#draw arbitrary lines on the plot\n",
    "xLen=np.max(latencies[0:3])\n",
    "plt.plot(range(xLen),np.repeat(-3,len(range(xLen))),'k--')\n",
    "plt.plot(range(xLen),np.repeat(3,len(range(xLen))),'k--')\n",
    "#Draw the walks on the graph\n",
    "plt.plot(range(latencies[0]),evidence[0,0:latencies[0]],'b--')\n",
    "plt.plot(range(latencies[1]),evidence[1,0:latencies[1]],'r-.')\n",
    "plt.plot(range(latencies[2]),evidence[2,0:latencies[2]],'g')\n",
    "plt.plot(range(latencies[3]),evidence[3,0:latencies[3]],'y:')"
   ]
  },
  {
   "cell_type": "code",
   "execution_count": null,
   "metadata": {},
   "outputs": [],
   "source": [
    "#Look at histogram of responses for each type of response\n",
    "topResp=latencies[responses>0]\n",
    "botResp=latencies[responses<0]\n",
    "\n",
    "print('The number of top Responses is '+np.str(np.shape(topResp)[0]) )\n",
    "print('The mean response time for top Resps is '+np.str(np.mean(topResp)))\n",
    "#sns.distplot(topResp)"
   ]
  },
  {
   "cell_type": "code",
   "execution_count": null,
   "metadata": {},
   "outputs": [],
   "source": [
    "print('The number of bottom Responses is '+np.str(np.shape(botResp)[0]) )\n",
    "print('The mean response time for bottom Resps is '+np.str(np.mean(botResp)))"
   ]
  },
  {
   "cell_type": "markdown",
   "metadata": {},
   "source": [
    "So great, we can see that responses are clearly biased towards the top response, for instance the correct response, and away from the bottom response."
   ]
  },
  {
   "cell_type": "code",
   "execution_count": null,
   "metadata": {
    "collapsed": true
   },
   "outputs": [],
   "source": [
    "def driftFunc(drift,sdrw,criterion,nReps,nSamples,driftVar):\n",
    "    #Ok this is the functionized version, where I have to input the params of interest.\n",
    "    import numpy as np\n",
    "    import matplotlib.pyplot as plt\n",
    "    import seaborn as sns\n",
    "\n",
    "    ##Random Walk Model\n",
    "    nreps=nReps\n",
    "    nsamples=nSamples\n",
    "\n",
    "    #drift=drift#0.03 #Drift rate is slightly positive, so we are biasing towards decision 1\n",
    "    #sdrw = 0.3 #set the standard dev of the drift rate\n",
    "    #criterion = 3.0 #Set the critierion\n",
    "\n",
    "    #New introduction of trial to trial variability\n",
    "    t2tsd=driftVar\n",
    "\n",
    "    latencies=np.repeat(0,nreps)\n",
    "    responses=np.repeat(0,nreps)\n",
    "    evidence=np.zeros((nreps,nsamples+1))\n",
    "\n",
    "    for i in range(nreps):\n",
    "        #Set the starting point as varying around 0 with some sd set above.\n",
    "        sp=np.random.normal(0,t2tsd[0],1)\n",
    "        #Set the drift rate mean by selecting something varying the bias above and our bias std set above\n",
    "        dr=np.random.normal(drift,t2tsd[1],1)\n",
    "        evidence[i,:]=np.cumsum(np.append(sp,np.random.normal(dr,sdrw,nsamples)))\n",
    "        p=np.argmax(abs(evidence[i,:])>criterion)\n",
    "        responses[i]=np.sign(evidence[i,p])\n",
    "        latencies[i]=p\n",
    "        \n",
    "    return responses, latencies, evidence\n",
    "    #return latencies"
   ]
  },
  {
   "cell_type": "code",
   "execution_count": null,
   "metadata": {
    "collapsed": true
   },
   "outputs": [],
   "source": [
    "#Now we can play around with values here.  In this example, I wanted to have a version\n",
    "#where the top response was biased towards and the starting variability was large. This sort\n",
    "#mimics a situation in a go/no-go experiment where there could be a strong bias towards one response\n",
    "#occuring or being \"correct\" more often.\n",
    "responses2, latencies2, evidence2= driftFunc(0.035,.3,3.0,1000,2000,[0.8,0])"
   ]
  },
  {
   "cell_type": "code",
   "execution_count": null,
   "metadata": {},
   "outputs": [],
   "source": [
    "#Plot a few example walks.\n",
    "plt.title('A Few random walks')\n",
    "plt.ylabel('Evidence')\n",
    "plt.xlabel('time')\n",
    "#draw arbitrary lines on the plot\n",
    "xLen=np.max(latencies2[0:3])\n",
    "plt.plot(range(xLen),np.repeat(-3,len(range(xLen))),'k--')\n",
    "plt.plot(range(xLen),np.repeat(3,len(range(xLen))),'k--')\n",
    "#Draw the walks on the graph\n",
    "plt.plot(range(latencies2[0]),evidence2[0,0:latencies2[0]],'b--')\n",
    "plt.plot(range(latencies2[1]),evidence2[1,0:latencies2[1]],'r-.')\n",
    "plt.plot(range(latencies2[2]),evidence2[2,0:latencies2[2]],'g')\n",
    "plt.plot(range(latencies2[3]),evidence2[3,0:latencies2[3]],'y:')"
   ]
  },
  {
   "cell_type": "code",
   "execution_count": null,
   "metadata": {},
   "outputs": [],
   "source": [
    "#Look at histogram of responses for each type of response\n",
    "topResp=latencies2[responses2>0]\n",
    "botResp=latencies2[responses2<0]\n",
    "\n",
    "print('The number of top Responses is '+np.str(np.shape(topResp)[0]) )\n",
    "print('The mean response time for top Resps is '+np.str(np.mean(topResp)))\n"
   ]
  },
  {
   "cell_type": "code",
   "execution_count": null,
   "metadata": {},
   "outputs": [],
   "source": [
    "print('The number of bottom Responses is '+np.str(np.shape(botResp)[0]) )\n",
    "print('The mean response time for bottom Resps is '+np.str(np.mean(botResp)))"
   ]
  },
  {
   "cell_type": "markdown",
   "metadata": {},
   "source": [
    "You'll notice much fewer response that went to the bottom response, and when they did, they were faster than the correct responses."
   ]
  },
  {
   "cell_type": "code",
   "execution_count": null,
   "metadata": {},
   "outputs": [],
   "source": [
    "#Another example\n",
    "responses2, latencies2, evidence2= driftFunc(0.035,.3,3.0,1000,2000,[0.0,0.025])"
   ]
  },
  {
   "cell_type": "code",
   "execution_count": null,
   "metadata": {},
   "outputs": [],
   "source": [
    "topResp=latencies2[responses2>0]\n",
    "botResp=latencies2[responses2<0]\n",
    "\n",
    "print('The number of top Responses is '+np.str(np.shape(topResp)[0]) )\n",
    "print('The mean response time for top Resps is '+np.str(np.mean(topResp)))\n",
    "print('The number of bottom Responses is '+np.str(np.shape(botResp)[0]) )\n",
    "print('The mean response time for bottom Resps is '+np.str(np.mean(botResp)))"
   ]
  },
  {
   "cell_type": "markdown",
   "metadata": {},
   "source": [
    "In this version, there is still a clear impact of starting point bias. However, I've allowed for the drift rate to vary on each iteration. So now we see slower RTs for \"incorrect\" bottom decisions as compared to the top decision.  That is because on average the bias + drift rate means that there can be more negative boundary crossings but they are on average going to be slower than correct response."
   ]
  },
  {
   "cell_type": "code",
   "execution_count": null,
   "metadata": {
    "collapsed": true
   },
   "outputs": [],
   "source": [
    "#We can flip that relationship by flipping the drift rate mean.\n",
    "responses2, latencies2, evidence2= driftFunc(-0.035,.3,3.0,1000,2000,[0.0,0.025])"
   ]
  },
  {
   "cell_type": "code",
   "execution_count": null,
   "metadata": {},
   "outputs": [],
   "source": [
    "topResp=latencies2[responses2>0]\n",
    "botResp=latencies2[responses2<0]\n",
    "\n",
    "print('The number of top Responses is '+np.str(np.shape(topResp)[0]) )\n",
    "print('The mean response time for top Resps is '+np.str(np.mean(topResp)))\n",
    "print('The number of bottom Responses is '+np.str(np.shape(botResp)[0]) )\n",
    "print('The mean response time for bottom Resps is '+np.str(np.mean(botResp)))"
   ]
  },
  {
   "cell_type": "code",
   "execution_count": null,
   "metadata": {
    "collapsed": true
   },
   "outputs": [],
   "source": [
    "#We can flip that relationship by flipping the drift rate mean.\n",
    "responses2, latencies2, evidence2= driftFunc(0.0,.3,3.0,1000,2000,[0.0,0.0])"
   ]
  },
  {
   "cell_type": "code",
   "execution_count": null,
   "metadata": {},
   "outputs": [],
   "source": [
    "topResp=latencies2[responses2>0]\n",
    "botResp=latencies2[responses2<0]\n",
    "\n",
    "print('The number of top Responses is '+np.str(np.shape(topResp)[0]) )\n",
    "print('The mean response time for top Resps is '+np.str(np.mean(topResp)))\n",
    "print('The number of bottom Responses is '+np.str(np.shape(botResp)[0]) )\n",
    "print('The mean response time for bottom Resps is '+np.str(np.mean(botResp)))"
   ]
  },
  {
   "cell_type": "code",
   "execution_count": null,
   "metadata": {
    "collapsed": true
   },
   "outputs": [],
   "source": [
    "#Again all else being equal-"
   ]
  }
 ],
 "metadata": {
  "kernelspec": {
   "display_name": "Python 3",
   "language": "python",
   "name": "python3"
  },
  "language_info": {
   "codemirror_mode": {
    "name": "ipython",
    "version": 3
   },
   "file_extension": ".py",
   "mimetype": "text/x-python",
   "name": "python",
   "nbconvert_exporter": "python",
   "pygments_lexer": "ipython3",
   "version": "3.6.1"
  }
 },
 "nbformat": 4,
 "nbformat_minor": 2
}
